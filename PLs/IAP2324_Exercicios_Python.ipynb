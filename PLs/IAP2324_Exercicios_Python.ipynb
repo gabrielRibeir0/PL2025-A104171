{
  "cells": [
    {
      "cell_type": "markdown",
      "metadata": {
        "id": "4Npjzz0U-fKB"
      },
      "source": [
        "# Sobre Python\n",
        "## Material de Apoio à disciplina de IAP (23/24)\n",
        "## Paulo Mendes & Pedro Rangel Henriques\n",
        "\n",
        "Python é uma linguagem de programação de alto nível que pode ser usada em vários domínios (e.g.: aplicações web, processamento de língua natural, machine learning, etc.). É dinamicamente tipada e possui coletor de lixo. Suporta ainda vários paradigmas de programação (funcional, imperativo, orientado a objetos)."
      ]
    },
    {
      "cell_type": "markdown",
      "metadata": {
        "id": "05eHWFsaEeiV"
      },
      "source": []
    },
    {
      "cell_type": "markdown",
      "metadata": {
        "id": "Y9Y4Qmd2_FZ6"
      },
      "source": [
        "### Exercício 1: Potências\n",
        "**a)** Escreva uma função 'potencia' que recebe 2 argumentos: uma base 'b' e um expoente 'e' e que retorna a potência 'b elevado a e'.\n",
        "Primeiro escreva uma versão **iterativa** _'potI()'_ e depois escreva a sua versão **recursiva** 'potR()'"
      ]
    },
    {
      "cell_type": "code",
      "execution_count": null,
      "metadata": {
        "colab": {
          "base_uri": "https://localhost:8080/"
        },
        "id": "rzoRu_k8-Rch",
        "outputId": "08631136-907e-40a1-da9b-5aec3e39c70e"
      },
      "outputs": [],
      "source": [
        "#prologo\n",
        "## ler base; ler expoente\n",
        "#corpo\n",
        "##potencia = invocar funcao pot(base,exp)\n",
        " ### resultado da funcao pot(base,exp) : res =base * base* .. * base, expoente vezes\n",
        "#epilogo\n",
        "## escrever potencia\n",
        "\n",
        "#Solução iterativa desenvolvida na aula de 2023.09.15\n",
        "def potI (b,e):\n",
        "  resultado= 1\n",
        "  for conta in range(0,e):\n",
        "    resultado = resultado * b\n",
        "    #print(conta)\n",
        "  #...\n",
        "  return resultado\n",
        "'''\n",
        "a = int(input(\"Qual a base? \"))\n",
        "b = int(input(\"Qual o expoente? \"))\n",
        "print(\"A potência é:\",potI(a,b))\n",
        "'''\n",
        "#Solução recursiva desenvolvida na aula de 2023.09.15\n",
        "'''\n",
        "def potR (b,e):\n",
        "  resultado=1\n",
        "  if e == 0:\n",
        "    resultado = 1\n",
        "  else:\n",
        "    resultado = b * potR(b,e-1)\n",
        "  return resultado\n",
        "'''\n",
        "\n",
        "#Solução recursiva equivalente, mas mais simples e elegante\n",
        "def potR (b,e):\n",
        "  resultado=1\n",
        "  if e > 0:\n",
        "    resultado = b * potR(b,e-1)\n",
        "  return resultado\n",
        "\n",
        "print(\"A potência é:\",potR(int (input(\"Qual a base? \")),10))"
      ]
    },
    {
      "cell_type": "markdown",
      "metadata": {
        "id": "XKUupe0v_f65"
      },
      "source": [
        "**b)** Escreva um programa que lê uma base 'base' e dois números 'LInf' e 'LSup' e imprime todas as potências da base 'base' com o expoente 'exp' a variar entre 'LInf' e 'LSup'."
      ]
    },
    {
      "cell_type": "code",
      "execution_count": null,
      "metadata": {
        "colab": {
          "base_uri": "https://localhost:8080/"
        },
        "id": "9W2-2KTJAXUy",
        "outputId": "93068bc4-39a5-49cd-f94c-45014d6c5d4a"
      },
      "outputs": [],
      "source": [
        "def potI (b,e):\n",
        "  resultado= 1\n",
        "  for conta in range(0,e):\n",
        "    resultado = resultado * b\n",
        "    #print(conta)\n",
        "  #...\n",
        "  return resultado\n",
        "\n",
        "base= int (input(\"Qual a base? \"))\n",
        "Linf= int (input(\"Qual o limite inferior? \"))\n",
        "Lsup= int (input(\"Qual o limite superior? \"))\n",
        "for expoente in range(Linf,Lsup+1) :\n",
        "  print(\"A potência de base \",base,\"e expoente \", expoente,\" é: \",potI(base,expoente))\n"
      ]
    },
    {
      "cell_type": "markdown",
      "metadata": {
        "id": "1DDauQA_X9d8"
      },
      "source": [
        "**c)** Escreva uma função 'raiz' que receba um radical 'r' e um indice 'i' e retorna a raiz i de r"
      ]
    },
    {
      "cell_type": "code",
      "execution_count": null,
      "metadata": {
        "colab": {
          "base_uri": "https://localhost:8080/"
        },
        "id": "hUkdaO11Yazw",
        "outputId": "cd51500a-22b8-46e1-d411-2a6e4fb3c8f0"
      },
      "outputs": [],
      "source": [
        "def pot(x,n=2):\n",
        "  resultado = x ** n\n",
        "  return resultado\n",
        "print(round(pot(1000), 3))\n",
        "\n",
        "def func(a, *b):\n",
        "  print(a)\n",
        "  print([10 * i for i in b if i %2 ])\n",
        "\n",
        "def raiz(r, i):\n",
        "  return r ** (1/i)\n",
        "\n",
        "func(1,2,3,4,5,6,7,8)\n",
        "func(1)\n",
        "print(raiz(27,3))"
      ]
    },
    {
      "cell_type": "code",
      "execution_count": 5,
      "metadata": {
        "id": "0aLhrHOJgs1E"
      },
      "outputs": [
        {
          "name": "stdout",
          "output_type": "stream",
          "text": [
            "listar [10, 20, 30, 40, 50, 60, 70, 80, 90]\n",
            "expressão de listas [10, 20, 30, 40, 50, 60, 70, 80, 90]\n",
            "reduce soma 450\n",
            "reduce soma lambda 450\n",
            "map mult 10 [50, 40, 30, 20]\n",
            "<class 'function'>\n"
          ]
        }
      ],
      "source": [
        "import functools\n",
        "mat = [[1,2,3],[4,5,6],[7,8,9]]\n",
        "\n",
        "def listar(m):\n",
        "  r = []\n",
        "  for i in m:\n",
        "    for j in i:\n",
        "      r += [10*j]\n",
        "  return r\n",
        "\n",
        "print('listar',listar(mat))\n",
        "vetor = [10*j for i in mat for j in i]\n",
        "print('expressão de listas',vetor)\n",
        "\n",
        "def soma(a,b):\n",
        "  return a+b\n",
        "\n",
        "print('reduce soma',functools.reduce(soma,vetor,0))\n",
        "\n",
        "print('reduce soma lambda',functools.reduce(lambda x,y: x+y, vetor, 0))\n",
        "\n",
        "v2 = [5,4,3,2]\n",
        "\n",
        "print('map mult 10', list(map(lambda x: x*10,v2)))\n",
        "\n",
        "print(type(lambda x,y: x+y))"
      ]
    },
    {
      "cell_type": "markdown",
      "metadata": {
        "id": "u0r8g_W4Ahxa"
      },
      "source": [
        "### Exercício 2: Fatorial\n",
        "**a)** Escreva uma função 'fatorial' que recebe como argumento um número 'n' e que retorna o fatorial de 'n' usando uma definição recursiva para o calculo do resultado."
      ]
    },
    {
      "cell_type": "code",
      "execution_count": null,
      "metadata": {
        "id": "h6XoEimAA3pD"
      },
      "outputs": [],
      "source": [
        "#resultado=n*n-1*n-2*...*1\n",
        "'''def fatorial (n):\n",
        "  resultado=1\n",
        "  while(...):\n",
        "    ...\n",
        "  return resultado\n",
        "\n",
        "print(\"O fatorial é\", fatorial(10))\n",
        "'''\n",
        "##Versao Recursiva\n",
        "#resultado=1 se n=0; resultado=n*fatorial(n-1) se n>0\n",
        "def fat (n):\n",
        "  resultado=1\n",
        "  if (n>0):\n",
        "    resultado= n* fat(n-1)\n",
        "  return resultado\n",
        "for n in range(2,10) :\n",
        "  print(\"O fatorial é de \",n,\" é \", fat(n))\n",
        "\n",
        "#print(fat(int(input(\"Fatorial de \"))))\n",
        "\n",
        "n= int(input(\"Fatorial de \"))\n",
        "e_negativo=n<0\n",
        "if (not(e_negativo)) :\n",
        "  res=fat(n)\n",
        "  print(res)\n",
        "else :\n",
        "  print(\"Erro!\")"
      ]
    },
    {
      "cell_type": "markdown",
      "metadata": {
        "id": "_kNgUkeZA5Py"
      },
      "source": [
        "**b)** Escreva um programa que lê número 'Limite' e imprime fatorial de todos os naturias de 0 a 'Limite'."
      ]
    },
    {
      "cell_type": "code",
      "execution_count": null,
      "metadata": {
        "id": "UD61kyfaBEMC"
      },
      "outputs": [],
      "source": [
        "limite= int (input(\"Qual o limite? \"))\n",
        "for n in range(0,limite+1):\n",
        "  print(\"O fatorial de \",n,\" é: \", fat(n))\n"
      ]
    },
    {
      "cell_type": "markdown",
      "metadata": {
        "id": "zgaoLtKABHHK"
      },
      "source": [
        "### Exercício 3: Pares\n",
        "a) Escreva uma função 'par' que recebe como argumento um número 'n' e retorna True ou False conforme 'n' seja par ou impar."
      ]
    },
    {
      "cell_type": "code",
      "execution_count": null,
      "metadata": {
        "id": "B24_uQkFBT3q"
      },
      "outputs": [],
      "source": [
        "def par(n):\n",
        "  return True if (n%2==0) else False\n",
        "print(par(843))\n",
        "\n",
        "\n"
      ]
    },
    {
      "cell_type": "markdown",
      "metadata": {
        "id": "h69dalWeBUgS"
      },
      "source": [
        "b) Escreva um programa que lê números, e por cada um diga 'Número par' ou não escreve nenhuma mensagem conforme o número lido seja par ou não.\n",
        "\n",
        "O programa termina a leitura quando o número for menor ou igual a 0."
      ]
    },
    {
      "cell_type": "code",
      "execution_count": null,
      "metadata": {
        "colab": {
          "base_uri": "https://localhost:8080/"
        },
        "id": "0XVWaCptBn2K",
        "outputId": "3da28e22-663c-408b-b7c7-bb068fa05503"
      },
      "outputs": [],
      "source": [
        "n=int(input(\"Escreva um número: \"))\n",
        "while(n>0):\n",
        "  print(par(n))\n",
        "  n=int(input(\"Escreva um número: \"))\n",
        "\n"
      ]
    },
    {
      "cell_type": "markdown",
      "metadata": {
        "id": "Baa2FljrBqf8"
      },
      "source": [
        "**c)** Melhore o seu programa permitindo que o número de leituras repetidas seja variável e não o número fixo 10."
      ]
    },
    {
      "cell_type": "code",
      "execution_count": null,
      "metadata": {
        "id": "dns-co_7B1vz"
      },
      "outputs": [],
      "source": [
        "maximo=int(input(\"Escreva o número total de repetições: \"))\n",
        "...\n",
        "\n"
      ]
    },
    {
      "cell_type": "markdown",
      "metadata": {
        "id": "SDCrkj6HHlnM"
      },
      "source": [
        "###Exercicio 4: Conjuntos\n",
        "Considere o conjunto de frutas: maça, pera, pessego , morango, laranja.\n",
        "\n",
        "Escreva uma função que receba esse conjunto e uma outra palavra e diga se a palavra é uma fruta."
      ]
    },
    {
      "cell_type": "code",
      "execution_count": null,
      "metadata": {
        "id": "_t-Y3fauIP6C"
      },
      "outputs": [],
      "source": [
        "\n",
        "def fazparte(palavra,fruteira):\n",
        "  return (palavra in fruteira)\n",
        "\n",
        "# Primeira solução\n",
        "minhasFrutas = {\"maça\", \"pera\", \"pessego\", \"morango\", \"laranja\", \"banana\"}\n",
        "fruta= input(\"Indique uma fruta: \")\n",
        "res= fazparte(fruta, minhasFrutas) #testa se o elemento pertence ao Conj\n",
        "if (res):\n",
        "  print(\"Faz parte da fruteira\")\n",
        "else :\n",
        "  print(\"Não faz parte da fruteira\")\n",
        "\n",
        "# Segunda solução, mais robusta\n",
        "fruta2= input(\"Indique uma fruta: \")\n",
        "fruta2= fruta2.lower()\n",
        "res= fazparte(fruta2, {\"uva\", \"melao\", \"melancia\", \"romã\"})\n",
        "if (res):\n",
        "  print(\"Faz parte da fruteira\")\n",
        "else :\n",
        "  print(\"Não faz parte da fruteira\")\n",
        "\n",
        "# Outras Operações sobre conjuntos\n",
        "minhasFrutas.update({\"morango\", \"ananás\", \"limão\", \"banana\"})  #faz a união de dois conjuntos\n",
        "minhasFrutas.add(\"tomate\")                                     #junta um elemento ao conjunto\n",
        "print(minhasFrutas)"
      ]
    },
    {
      "cell_type": "markdown",
      "metadata": {
        "id": "8PGMTO1C4m_G"
      },
      "source": [
        "###4.1 Variante do teste de inclusão em conjuntos\n",
        "\n",
        "Escreva uma variante do programa anterior que permita pesquisar um elemento num de dois conjuntos, 'frutas' e 'legumes', à escolha do utilizador.\n",
        "\n",
        "Caso o Utilizador não escolha nenhuma das duas hipóteses válidas, o Programa deve sinalizar um erro.\n",
        "\n",
        "O programa deve ir executanto sucessivas procuras, até que o Utilizador não escolha nenhum conjunto.\n"
      ]
    },
    {
      "cell_type": "code",
      "execution_count": null,
      "metadata": {
        "colab": {
          "background_save": true
        },
        "id": "hUhXQ0Un5dvG"
      },
      "outputs": [],
      "source": [
        "def fazParte(ele,conj):\n",
        "    return (ele in conj)\n",
        "\n",
        "frutas = {\"uva\", \"banana\", \"cereja\", \"pera\", \"laranja\" }\n",
        "legumes = {\"alface\", \"cenoura\", \"penca\", \"couve\"}\n",
        "\n",
        "escolhe = input(\"Procuro em que conjunto <frutas/legumes> (ENTER para terminar) ? \")\n",
        "while (escolhe):\n",
        "  ...........\n",
        "  escolhe = input(\"Procuro em que conjunto  <frutas/legumes> (ENTER para terminar) ? \")\n"
      ]
    },
    {
      "cell_type": "markdown",
      "metadata": {
        "id": "-7dDd5D0B4Vs"
      },
      "source": [
        "### Exercício 5: Listas\n",
        "Considere a lista 'nums' com os valores:\n",
        "1,3,5,7,8,12,21,45,67,86,99\n",
        "\n",
        "e use essa lista 'nums' para testar cada uma das funções sobre listas pedidas nas alíneas seguintes\n",
        "\n",
        "**a)** Escreva uma função para calcular a média de uma lista usando a função que já calcula o seu comprimento."
      ]
    },
    {
      "cell_type": "code",
      "execution_count": null,
      "metadata": {
        "id": "sHqpcXjXCB2y"
      },
      "outputs": [],
      "source": [
        "nums=[1,3,5,7,8,12,21,45,67,86,99]\n",
        "notas = [14, 14, 14, 14, 14]\n",
        "outraLista = [123, 12, 3, 67, 89, 21, 100]\n",
        "maisLista = [ 129, 200, 340]\n",
        "\n",
        "print(nums[1])\n",
        "print(13 in nums)\n",
        "print(len (nums))\n",
        "nums.append(10) #junta um elemento no fim da lista\n",
        "#nums=nums + [1,3,2,4] #acrescenta uma lista a outra lista\n",
        "nums+= [1,3,2,4] #acrescenta uma lista a outra lista\n",
        "print(nums)\n",
        "\n",
        "def media(nums):\n",
        "  ...\n",
        "\n",
        "print (\"A media da lista dada é: \", media(notas))\n",
        "\n"
      ]
    },
    {
      "cell_type": "markdown",
      "metadata": {
        "id": "uKXxjAuuCDQS"
      },
      "source": [
        "**b)** Escreva uma função para calcular o máximo da lista."
      ]
    },
    {
      "cell_type": "code",
      "execution_count": null,
      "metadata": {
        "id": "_MYdZiCqCM_i"
      },
      "outputs": [],
      "source": [
        "def maximo(l):\n",
        "   return ...\n",
        "\n",
        "print(\"O maior da lista é:\", maximo(outraLista))\n",
        "\n",
        "def miNimo(l):\n",
        "   return ...\n",
        "\n",
        "print(\"O meNor da lista é:\", miNimo(outraLista))\n",
        "print(\"O meNor da lista é:\", miNimo(maisLista))\n",
        "print(\"O meNor da lista é:\", miNimo(notas))\n",
        "\n",
        "print(\"Todos os elemeNtos da lista são iguais? \", miNimo(outraLista)==maximo(outraLista))"
      ]
    },
    {
      "cell_type": "markdown",
      "metadata": {
        "id": "3IG9smnHCNK6"
      },
      "source": [
        "**c)** Escreva uma função que diga quantos números pares existem na lista."
      ]
    },
    {
      "cell_type": "code",
      "execution_count": null,
      "metadata": {
        "id": "FJSFZ6nDCT5S"
      },
      "outputs": [],
      "source": [
        "def par(n):\n",
        "    return (....)\n",
        "\n",
        ".........\n",
        "\n",
        "print(\"O Número total de Pares da lista é:\", coNtaPar(notas))\n",
        "print(\"O Número total de Pares da lista é:\", coNtaPar(maisLista))\n",
        "print(\"O Número total de Pares da lista é:\", coNtaPar(nums))\n",
        "\n",
        "\n"
      ]
    },
    {
      "cell_type": "markdown",
      "metadata": {
        "id": "TMza8rGvCUly"
      },
      "source": [
        "**d)** Escreva uma função que receba um número e uma lista e que conte quantos elementos são maior ou igual ao número dado."
      ]
    },
    {
      "cell_type": "code",
      "execution_count": null,
      "metadata": {
        "id": "jx2isKLOG49F"
      },
      "outputs": [],
      "source": [
        "def maiores(l,k):\n",
        "   res = 0\n",
        "   ...\n",
        "   return res\n",
        "\n",
        "\n",
        "k = int(input(\"Escreva um Número de referência:\"))\n",
        "ct = maiores(nums,k)\n",
        "\n",
        "\n",
        "\n"
      ]
    },
    {
      "cell_type": "markdown",
      "metadata": {
        "id": "Mt97GH1pH5c4"
      },
      "source": [
        "###Exercício 6: Mais Listas\n",
        "**a)** Escreva uma função que receba uma lista e a imprima por ordem inversa, do último para o 1º elemento.\n",
        "\n"
      ]
    },
    {
      "cell_type": "code",
      "execution_count": null,
      "metadata": {
        "id": "1KvthRqyID4F"
      },
      "outputs": [],
      "source": [
        "l=[1,2,3,4,5,6,7,8,9,10]\n",
        "l=[\"a\",\"b\",\"c\",\"d\"]\n",
        "def inverte(l):\n",
        "  ...\n",
        "\n",
        "print(inverte(l))"
      ]
    },
    {
      "cell_type": "markdown",
      "metadata": {
        "id": "Goqw5KCLIEV9"
      },
      "source": [
        "**b)** Escreva um programa que leia numéros positivos, forme com eles uma lista e depois a imprima por ordem inversa."
      ]
    },
    {
      "cell_type": "code",
      "execution_count": null,
      "metadata": {
        "id": "KHUCcserILXe"
      },
      "outputs": [],
      "source": [
        "l=[]\n",
        "n= int(input(\"Escreva um número positivo: \"))\n",
        "while n>0:\n",
        "  ...\n",
        "\n",
        "### Mostra a lista invertida, usando a função inverte, sem usar a função inverte"
      ]
    },
    {
      "cell_type": "markdown",
      "metadata": {
        "id": "Iaym3ORMILut"
      },
      "source": [
        "###Exercício 7: Lista de Coordenadas cartesianas\n",
        "**a)** Escreva um programa que leia uma lista de pontos num plano cartesiano, definidos pela sua abcissa e ordenada, e no fim percorra a lista e indique o quadrante de cada ponto."
      ]
    },
    {
      "cell_type": "code",
      "execution_count": null,
      "metadata": {
        "id": "VWkIzXJjITlm"
      },
      "outputs": [],
      "source": [
        "l=[]\n",
        "\n",
        "#criação da lista\n",
        "for conta in range(1,4):\n",
        " ab= int(input(\"Insira a abcissa:\"))\n",
        " ord= int(input(\"Insira a ordenada:\"))\n",
        " coord= (ab,ord)\n",
        " l.append(coord)\n",
        "\n",
        "#processamento da lista\n",
        "for coord in l:\n",
        " (ab,ord) = coord\n",
        " if ...:\n",
        "  print(\"Pertence ao 1ºquadrante\")\n",
        " elif ...:\n",
        "  print(\"Pertence ao 2ºquardante\")\n",
        " elif ...:\n",
        "  print(\"Pertence ao 3ºquardante\")\n",
        " elif ...:\n",
        "  print(\"Pertence ao 4ºquardante\")\n",
        " elif ...:\n",
        "  print(\"Encontra-se no centro do gráfico\")\n",
        " else:\n",
        "  print(\"Encontra-se num dos eixos\")\n",
        "print(l)"
      ]
    },
    {
      "cell_type": "markdown",
      "metadata": {
        "id": "OXSRyxMCIUhO"
      },
      "source": [
        "**b)** Calcule o declive da reta definida pelos dois primeiros pontos.\n"
      ]
    },
    {
      "cell_type": "code",
      "execution_count": null,
      "metadata": {
        "id": "whT1-vnsI6gW"
      },
      "outputs": [],
      "source": [
        "..........\n",
        "print(declive)"
      ]
    },
    {
      "cell_type": "markdown",
      "metadata": {
        "id": "xUvHLtMSG6bt"
      },
      "source": [
        "### Exercício 8: Nomes\n",
        "Escreva um programa que leia um nome completo e escreva o ultimo apelido seguindo do primeiro nome.\n",
        "\n",
        "\"pedro manuel rangel santos henriques\" ==> \"henriques, pedro\""
      ]
    },
    {
      "cell_type": "code",
      "execution_count": null,
      "metadata": {
        "id": "g80L0axeJguG"
      },
      "outputs": [],
      "source": []
    },
    {
      "cell_type": "markdown",
      "metadata": {
        "id": "Z_QG5JAq2OSQ"
      },
      "source": [
        "###Exercicio 9: Dicionários\n",
        "\n",
        "Considere a pauta de uma turma, que ao numero de cada aluno  associa o seu nome\n",
        "e a sua nota\n",
        "\n",
        "pauta = {'a1':(\"joana sousa\",12), 'a11':(\"rui cunha\",19), 'a13':(\"ana moura\",15)}\n",
        "\n",
        "**a)** Escreva uma função que retorna o nome de um aluno dada a pauta e o número."
      ]
    },
    {
      "cell_type": "code",
      "execution_count": null,
      "metadata": {
        "id": "JRvo0EeZ2crO"
      },
      "outputs": [],
      "source": [
        "pauta = {'a1':(\"joana sousa\",12), 'a11':(\"rui cunha\",19), 'a13':(\"ana moura\",15)}\n",
        "\n",
        "...\n"
      ]
    },
    {
      "cell_type": "markdown",
      "metadata": {
        "id": "ZUxMHO_32dFl"
      },
      "source": [
        "**b)** Escreva uma função que retorna a nota de um aluno dada a pauta e o número."
      ]
    },
    {
      "cell_type": "code",
      "execution_count": null,
      "metadata": {
        "id": "aR6gJl1W3V43"
      },
      "outputs": [],
      "source": []
    },
    {
      "cell_type": "markdown",
      "metadata": {
        "id": "LCNVtIwr3VLZ"
      },
      "source": [
        "**c)** Escreva uma função que retorna a nota média da turma dada a pauta.\n"
      ]
    },
    {
      "cell_type": "code",
      "execution_count": null,
      "metadata": {
        "id": "aIer6c273Wuv"
      },
      "outputs": [],
      "source": []
    },
    {
      "cell_type": "markdown",
      "metadata": {
        "id": "St_WXIg7I6wG"
      },
      "source": [
        "###Exercicio 10: Jogo da Forca\n",
        "Implemente o Jogo da Forca começando por ler a palavra a adivinhar.\n",
        "\n",
        "Depois leia um carater de cada vez, e verifique se o jogador consegue adivinhar a palavra escondida.\n",
        "Por cada carater lido o programa deve dizer se o carater não pertence à palavra.\n",
        "\n",
        "Ou então mostrar as posições onde ocorre esse carater na palavra, juntando-o aos carateres já descobertos.\n",
        "O jogo continua até o jogador ter formado a palavra completa ou até esgotar 10 tentativas."
      ]
    },
    {
      "cell_type": "code",
      "execution_count": null,
      "metadata": {
        "id": "hueZi4AoHPLl"
      },
      "outputs": [],
      "source": []
    }
  ],
  "metadata": {
    "colab": {
      "provenance": []
    },
    "kernelspec": {
      "display_name": "Python 3",
      "name": "python3"
    },
    "language_info": {
      "codemirror_mode": {
        "name": "ipython",
        "version": 3
      },
      "file_extension": ".py",
      "mimetype": "text/x-python",
      "name": "python",
      "nbconvert_exporter": "python",
      "pygments_lexer": "ipython3",
      "version": "3.12.6"
    }
  },
  "nbformat": 4,
  "nbformat_minor": 0
}
